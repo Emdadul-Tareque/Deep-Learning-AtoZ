{
 "cells": [
  {
   "cell_type": "code",
   "execution_count": 1,
   "metadata": {},
   "outputs": [],
   "source": [
    "import pandas as pd\n",
    "import numpy as np "
   ]
  },
  {
   "cell_type": "code",
   "execution_count": 2,
   "metadata": {},
   "outputs": [],
   "source": [
    "df = pd.read_csv('Churn_Modelling.csv')"
   ]
  },
  {
   "cell_type": "code",
   "execution_count": 3,
   "metadata": {},
   "outputs": [
    {
     "data": {
      "text/html": [
       "<div>\n",
       "<style scoped>\n",
       "    .dataframe tbody tr th:only-of-type {\n",
       "        vertical-align: middle;\n",
       "    }\n",
       "\n",
       "    .dataframe tbody tr th {\n",
       "        vertical-align: top;\n",
       "    }\n",
       "\n",
       "    .dataframe thead th {\n",
       "        text-align: right;\n",
       "    }\n",
       "</style>\n",
       "<table border=\"1\" class=\"dataframe\">\n",
       "  <thead>\n",
       "    <tr style=\"text-align: right;\">\n",
       "      <th></th>\n",
       "      <th>RowNumber</th>\n",
       "      <th>CustomerId</th>\n",
       "      <th>Surname</th>\n",
       "      <th>CreditScore</th>\n",
       "      <th>Geography</th>\n",
       "      <th>Gender</th>\n",
       "      <th>Age</th>\n",
       "      <th>Tenure</th>\n",
       "      <th>Balance</th>\n",
       "      <th>NumOfProducts</th>\n",
       "      <th>HasCrCard</th>\n",
       "      <th>IsActiveMember</th>\n",
       "      <th>EstimatedSalary</th>\n",
       "      <th>Exited</th>\n",
       "    </tr>\n",
       "  </thead>\n",
       "  <tbody>\n",
       "    <tr>\n",
       "      <th>0</th>\n",
       "      <td>1</td>\n",
       "      <td>15634602</td>\n",
       "      <td>Hargrave</td>\n",
       "      <td>619</td>\n",
       "      <td>France</td>\n",
       "      <td>Female</td>\n",
       "      <td>42</td>\n",
       "      <td>2</td>\n",
       "      <td>0.00</td>\n",
       "      <td>1</td>\n",
       "      <td>1</td>\n",
       "      <td>1</td>\n",
       "      <td>101348.88</td>\n",
       "      <td>1</td>\n",
       "    </tr>\n",
       "    <tr>\n",
       "      <th>1</th>\n",
       "      <td>2</td>\n",
       "      <td>15647311</td>\n",
       "      <td>Hill</td>\n",
       "      <td>608</td>\n",
       "      <td>Spain</td>\n",
       "      <td>Female</td>\n",
       "      <td>41</td>\n",
       "      <td>1</td>\n",
       "      <td>83807.86</td>\n",
       "      <td>1</td>\n",
       "      <td>0</td>\n",
       "      <td>1</td>\n",
       "      <td>112542.58</td>\n",
       "      <td>0</td>\n",
       "    </tr>\n",
       "    <tr>\n",
       "      <th>2</th>\n",
       "      <td>3</td>\n",
       "      <td>15619304</td>\n",
       "      <td>Onio</td>\n",
       "      <td>502</td>\n",
       "      <td>France</td>\n",
       "      <td>Female</td>\n",
       "      <td>42</td>\n",
       "      <td>8</td>\n",
       "      <td>159660.80</td>\n",
       "      <td>3</td>\n",
       "      <td>1</td>\n",
       "      <td>0</td>\n",
       "      <td>113931.57</td>\n",
       "      <td>1</td>\n",
       "    </tr>\n",
       "    <tr>\n",
       "      <th>3</th>\n",
       "      <td>4</td>\n",
       "      <td>15701354</td>\n",
       "      <td>Boni</td>\n",
       "      <td>699</td>\n",
       "      <td>France</td>\n",
       "      <td>Female</td>\n",
       "      <td>39</td>\n",
       "      <td>1</td>\n",
       "      <td>0.00</td>\n",
       "      <td>2</td>\n",
       "      <td>0</td>\n",
       "      <td>0</td>\n",
       "      <td>93826.63</td>\n",
       "      <td>0</td>\n",
       "    </tr>\n",
       "    <tr>\n",
       "      <th>4</th>\n",
       "      <td>5</td>\n",
       "      <td>15737888</td>\n",
       "      <td>Mitchell</td>\n",
       "      <td>850</td>\n",
       "      <td>Spain</td>\n",
       "      <td>Female</td>\n",
       "      <td>43</td>\n",
       "      <td>2</td>\n",
       "      <td>125510.82</td>\n",
       "      <td>1</td>\n",
       "      <td>1</td>\n",
       "      <td>1</td>\n",
       "      <td>79084.10</td>\n",
       "      <td>0</td>\n",
       "    </tr>\n",
       "  </tbody>\n",
       "</table>\n",
       "</div>"
      ],
      "text/plain": [
       "   RowNumber  CustomerId   Surname  CreditScore Geography  Gender  Age  \\\n",
       "0          1    15634602  Hargrave          619    France  Female   42   \n",
       "1          2    15647311      Hill          608     Spain  Female   41   \n",
       "2          3    15619304      Onio          502    France  Female   42   \n",
       "3          4    15701354      Boni          699    France  Female   39   \n",
       "4          5    15737888  Mitchell          850     Spain  Female   43   \n",
       "\n",
       "   Tenure    Balance  NumOfProducts  HasCrCard  IsActiveMember  \\\n",
       "0       2       0.00              1          1               1   \n",
       "1       1   83807.86              1          0               1   \n",
       "2       8  159660.80              3          1               0   \n",
       "3       1       0.00              2          0               0   \n",
       "4       2  125510.82              1          1               1   \n",
       "\n",
       "   EstimatedSalary  Exited  \n",
       "0        101348.88       1  \n",
       "1        112542.58       0  \n",
       "2        113931.57       1  \n",
       "3         93826.63       0  \n",
       "4         79084.10       0  "
      ]
     },
     "execution_count": 3,
     "metadata": {},
     "output_type": "execute_result"
    }
   ],
   "source": [
    "df.head()"
   ]
  },
  {
   "cell_type": "code",
   "execution_count": 4,
   "metadata": {},
   "outputs": [],
   "source": [
    "X = df.iloc[:, 3: -1].values\n",
    "y = df.iloc[:, -1].values"
   ]
  },
  {
   "cell_type": "code",
   "execution_count": 6,
   "metadata": {},
   "outputs": [
    {
     "name": "stdout",
     "output_type": "stream",
     "text": [
      "[[619 'France' 'Female' ... 1 1 101348.88]\n",
      " [608 'Spain' 'Female' ... 0 1 112542.58]\n",
      " [502 'France' 'Female' ... 1 0 113931.57]\n",
      " ...\n",
      " [709 'France' 'Female' ... 0 1 42085.58]\n",
      " [772 'Germany' 'Male' ... 1 0 92888.52]\n",
      " [792 'France' 'Female' ... 1 0 38190.78]]\n"
     ]
    }
   ],
   "source": [
    "print(X)"
   ]
  },
  {
   "cell_type": "code",
   "execution_count": 7,
   "metadata": {},
   "outputs": [
    {
     "name": "stdout",
     "output_type": "stream",
     "text": [
      "[1 0 1 ... 1 1 0]\n"
     ]
    }
   ],
   "source": [
    "print(y)"
   ]
  },
  {
   "cell_type": "markdown",
   "metadata": {},
   "source": [
    "# Data Preprocess"
   ]
  },
  {
   "cell_type": "code",
   "execution_count": 9,
   "metadata": {},
   "outputs": [],
   "source": [
    "# Encoding Categorical data\n",
    "from sklearn.preprocessing import LabelEncoder\n",
    "le = LabelEncoder()\n",
    "X[:, 2] = le.fit_transform(X[:, 2])"
   ]
  },
  {
   "cell_type": "code",
   "execution_count": null,
   "metadata": {},
   "outputs": [],
   "source": [
    "from sklearn.compose import ColumnTransformer\n",
    "from sklearn.preprocessing import OneHotEncoder\n",
    "ct = ColumnTransformer(transformers=[('encoder', OneHotEncoder(), [1])], \n",
    "                      remainder='passthrough')\n",
    "X = np.array(ct.fit_transform(X))"
   ]
  },
  {
   "cell_type": "code",
   "execution_count": 10,
   "metadata": {},
   "outputs": [],
   "source": [
    "from sklearn.compose import ColumnTransformer\n",
    "from sklearn.preprocessing import OneHotEncoder\n",
    "\n",
    "ct = ColumnTransformer(transformers=[('encoder', OneHotEncoder(),[1])],\n",
    "                       remainder='passthrough')\n",
    "\n",
    "X = np.array(ct.fit_transform(X))"
   ]
  },
  {
   "cell_type": "code",
   "execution_count": 11,
   "metadata": {},
   "outputs": [
    {
     "name": "stdout",
     "output_type": "stream",
     "text": [
      "[[1.0 0.0 0.0 ... 1 1 101348.88]\n",
      " [0.0 0.0 1.0 ... 0 1 112542.58]\n",
      " [1.0 0.0 0.0 ... 1 0 113931.57]\n",
      " ...\n",
      " [1.0 0.0 0.0 ... 0 1 42085.58]\n",
      " [0.0 1.0 0.0 ... 1 0 92888.52]\n",
      " [1.0 0.0 0.0 ... 1 0 38190.78]]\n"
     ]
    }
   ],
   "source": [
    "print(X)"
   ]
  },
  {
   "cell_type": "code",
   "execution_count": 12,
   "metadata": {},
   "outputs": [],
   "source": [
    "from sklearn.model_selection import train_test_split\n",
    "X_train, X_test, y_train, y_test = train_test_split(X, y, test_size = 0.2)"
   ]
  },
  {
   "cell_type": "code",
   "execution_count": null,
   "metadata": {},
   "outputs": [],
   "source": [
    "from sklearn.preprocessing import StandardScaler\n",
    "sc = StandardScaler()\n",
    "X_train = sc.fit_transform(X_train)\n",
    "X_test = sc.fit_transform(X_test)"
   ]
  },
  {
   "cell_type": "code",
   "execution_count": 13,
   "metadata": {},
   "outputs": [],
   "source": [
    "from sklearn.preprocessing import StandardScaler\n",
    "sc = StandardScaler()\n",
    "X_train = sc.fit_transform(X_train)\n",
    "X_test = sc.fit_transform(X_test)"
   ]
  },
  {
   "cell_type": "markdown",
   "metadata": {},
   "source": [
    "# Build an ANN model"
   ]
  },
  {
   "cell_type": "code",
   "execution_count": 14,
   "metadata": {},
   "outputs": [],
   "source": [
    "import tensorflow as tf"
   ]
  },
  {
   "cell_type": "code",
   "execution_count": 15,
   "metadata": {},
   "outputs": [],
   "source": [
    "model = tf.keras.models.Sequential()"
   ]
  },
  {
   "cell_type": "code",
   "execution_count": 16,
   "metadata": {},
   "outputs": [],
   "source": [
    "model.add(tf.keras.layers.Dense(units = 6, activation='relu'))\n",
    "model.add(tf.keras.layers.Dense(units = 6, activation = 'relu'))\n",
    "model.add(tf.keras.layers.Dense(units = 1, activation = 'sigmoid'))"
   ]
  },
  {
   "cell_type": "code",
   "execution_count": 18,
   "metadata": {},
   "outputs": [],
   "source": [
    "model.compile(optimizer='adam',\n",
    "              loss = 'binary_crossentropy',\n",
    "             metrics=['accuracy'])"
   ]
  },
  {
   "cell_type": "code",
   "execution_count": 19,
   "metadata": {},
   "outputs": [
    {
     "name": "stdout",
     "output_type": "stream",
     "text": [
      "Epoch 1/100\n",
      "250/250 [==============================] - 0s 884us/step - loss: 0.5376 - accuracy: 0.7435\n",
      "Epoch 2/100\n",
      "250/250 [==============================] - 0s 898us/step - loss: 0.4710 - accuracy: 0.7990\n",
      "Epoch 3/100\n",
      "250/250 [==============================] - 0s 925us/step - loss: 0.4510 - accuracy: 0.7999\n",
      "Epoch 4/100\n",
      "250/250 [==============================] - 0s 928us/step - loss: 0.4407 - accuracy: 0.8024\n",
      "Epoch 5/100\n",
      "250/250 [==============================] - 0s 893us/step - loss: 0.4348 - accuracy: 0.8071\n",
      "Epoch 6/100\n",
      "250/250 [==============================] - 0s 898us/step - loss: 0.4310 - accuracy: 0.8077\n",
      "Epoch 7/100\n",
      "250/250 [==============================] - 0s 945us/step - loss: 0.4282 - accuracy: 0.8087\n",
      "Epoch 8/100\n",
      "250/250 [==============================] - 0s 937us/step - loss: 0.4255 - accuracy: 0.8109\n",
      "Epoch 9/100\n",
      "250/250 [==============================] - 0s 893us/step - loss: 0.4225 - accuracy: 0.8124\n",
      "Epoch 10/100\n",
      "250/250 [==============================] - 0s 874us/step - loss: 0.4182 - accuracy: 0.8159\n",
      "Epoch 11/100\n",
      "250/250 [==============================] - 0s 872us/step - loss: 0.4130 - accuracy: 0.8181\n",
      "Epoch 12/100\n",
      "250/250 [==============================] - 0s 925us/step - loss: 0.4074 - accuracy: 0.8201\n",
      "Epoch 13/100\n",
      "250/250 [==============================] - 0s 888us/step - loss: 0.4020 - accuracy: 0.8235\n",
      "Epoch 14/100\n",
      "250/250 [==============================] - 0s 878us/step - loss: 0.3971 - accuracy: 0.8278\n",
      "Epoch 15/100\n",
      "250/250 [==============================] - 0s 877us/step - loss: 0.3915 - accuracy: 0.8305\n",
      "Epoch 16/100\n",
      "250/250 [==============================] - 0s 879us/step - loss: 0.3861 - accuracy: 0.8331\n",
      "Epoch 17/100\n",
      "250/250 [==============================] - 0s 797us/step - loss: 0.3801 - accuracy: 0.8369\n",
      "Epoch 18/100\n",
      "250/250 [==============================] - 0s 866us/step - loss: 0.3744 - accuracy: 0.8391\n",
      "Epoch 19/100\n",
      "250/250 [==============================] - 0s 886us/step - loss: 0.3693 - accuracy: 0.8425\n",
      "Epoch 20/100\n",
      "250/250 [==============================] - 0s 881us/step - loss: 0.3644 - accuracy: 0.8461\n",
      "Epoch 21/100\n",
      "250/250 [==============================] - 0s 904us/step - loss: 0.3607 - accuracy: 0.8449\n",
      "Epoch 22/100\n",
      "250/250 [==============================] - 0s 856us/step - loss: 0.3566 - accuracy: 0.8486\n",
      "Epoch 23/100\n",
      "250/250 [==============================] - 0s 875us/step - loss: 0.3536 - accuracy: 0.8516\n",
      "Epoch 24/100\n",
      "250/250 [==============================] - 0s 884us/step - loss: 0.3513 - accuracy: 0.8528\n",
      "Epoch 25/100\n",
      "250/250 [==============================] - 0s 873us/step - loss: 0.3496 - accuracy: 0.8571\n",
      "Epoch 26/100\n",
      "250/250 [==============================] - 0s 816us/step - loss: 0.3475 - accuracy: 0.8566\n",
      "Epoch 27/100\n",
      "250/250 [==============================] - 0s 815us/step - loss: 0.3461 - accuracy: 0.8577\n",
      "Epoch 28/100\n",
      "250/250 [==============================] - 0s 871us/step - loss: 0.3451 - accuracy: 0.8571\n",
      "Epoch 29/100\n",
      "250/250 [==============================] - 0s 893us/step - loss: 0.3442 - accuracy: 0.8581\n",
      "Epoch 30/100\n",
      "250/250 [==============================] - 0s 872us/step - loss: 0.3430 - accuracy: 0.8586\n",
      "Epoch 31/100\n",
      "250/250 [==============================] - 0s 893us/step - loss: 0.3423 - accuracy: 0.8587\n",
      "Epoch 32/100\n",
      "250/250 [==============================] - 0s 871us/step - loss: 0.3416 - accuracy: 0.8596\n",
      "Epoch 33/100\n",
      "250/250 [==============================] - 0s 889us/step - loss: 0.3404 - accuracy: 0.8604\n",
      "Epoch 34/100\n",
      "250/250 [==============================] - 0s 917us/step - loss: 0.3398 - accuracy: 0.8602\n",
      "Epoch 35/100\n",
      "250/250 [==============================] - 0s 848us/step - loss: 0.3389 - accuracy: 0.8587\n",
      "Epoch 36/100\n",
      "250/250 [==============================] - 0s 920us/step - loss: 0.3393 - accuracy: 0.8606\n",
      "Epoch 37/100\n",
      "250/250 [==============================] - 0s 869us/step - loss: 0.3378 - accuracy: 0.8640\n",
      "Epoch 38/100\n",
      "250/250 [==============================] - 0s 911us/step - loss: 0.3377 - accuracy: 0.8600\n",
      "Epoch 39/100\n",
      "250/250 [==============================] - 0s 888us/step - loss: 0.3372 - accuracy: 0.8609\n",
      "Epoch 40/100\n",
      "250/250 [==============================] - 0s 905us/step - loss: 0.3371 - accuracy: 0.8614\n",
      "Epoch 41/100\n",
      "250/250 [==============================] - 0s 842us/step - loss: 0.3367 - accuracy: 0.8608\n",
      "Epoch 42/100\n",
      "250/250 [==============================] - 0s 882us/step - loss: 0.3362 - accuracy: 0.8629\n",
      "Epoch 43/100\n",
      "250/250 [==============================] - 0s 891us/step - loss: 0.3361 - accuracy: 0.8616\n",
      "Epoch 44/100\n",
      "250/250 [==============================] - 0s 887us/step - loss: 0.3362 - accuracy: 0.8593\n",
      "Epoch 45/100\n",
      "250/250 [==============================] - 0s 871us/step - loss: 0.3354 - accuracy: 0.8606\n",
      "Epoch 46/100\n",
      "250/250 [==============================] - 0s 903us/step - loss: 0.3355 - accuracy: 0.8620\n",
      "Epoch 47/100\n",
      "250/250 [==============================] - 0s 903us/step - loss: 0.3352 - accuracy: 0.8619\n",
      "Epoch 48/100\n",
      "250/250 [==============================] - 0s 948us/step - loss: 0.3353 - accuracy: 0.8614\n",
      "Epoch 49/100\n",
      "250/250 [==============================] - 0s 953us/step - loss: 0.3351 - accuracy: 0.8619\n",
      "Epoch 50/100\n",
      "250/250 [==============================] - 0s 868us/step - loss: 0.3348 - accuracy: 0.8612\n",
      "Epoch 51/100\n",
      "250/250 [==============================] - 0s 827us/step - loss: 0.3346 - accuracy: 0.8615\n",
      "Epoch 52/100\n",
      "250/250 [==============================] - 0s 868us/step - loss: 0.3347 - accuracy: 0.8609\n",
      "Epoch 53/100\n",
      "250/250 [==============================] - 0s 935us/step - loss: 0.3348 - accuracy: 0.8609\n",
      "Epoch 54/100\n",
      "250/250 [==============================] - 0s 857us/step - loss: 0.3347 - accuracy: 0.8637\n",
      "Epoch 55/100\n",
      "250/250 [==============================] - 0s 915us/step - loss: 0.3347 - accuracy: 0.8619\n",
      "Epoch 56/100\n",
      "250/250 [==============================] - 0s 879us/step - loss: 0.3342 - accuracy: 0.8625\n",
      "Epoch 57/100\n",
      "250/250 [==============================] - 0s 843us/step - loss: 0.3342 - accuracy: 0.8618\n",
      "Epoch 58/100\n",
      "250/250 [==============================] - 0s 866us/step - loss: 0.3340 - accuracy: 0.8609\n",
      "Epoch 59/100\n",
      "250/250 [==============================] - 0s 869us/step - loss: 0.3340 - accuracy: 0.8635\n",
      "Epoch 60/100\n",
      "250/250 [==============================] - 0s 882us/step - loss: 0.3340 - accuracy: 0.8615\n",
      "Epoch 61/100\n",
      "250/250 [==============================] - 0s 887us/step - loss: 0.3338 - accuracy: 0.8611\n",
      "Epoch 62/100\n",
      "250/250 [==============================] - 0s 833us/step - loss: 0.3339 - accuracy: 0.8633\n",
      "Epoch 63/100\n",
      "250/250 [==============================] - 0s 800us/step - loss: 0.3338 - accuracy: 0.8621\n",
      "Epoch 64/100\n",
      "250/250 [==============================] - 0s 838us/step - loss: 0.3342 - accuracy: 0.8618\n",
      "Epoch 65/100\n",
      "250/250 [==============================] - 0s 813us/step - loss: 0.3336 - accuracy: 0.8629\n",
      "Epoch 66/100\n",
      "250/250 [==============================] - 0s 829us/step - loss: 0.3336 - accuracy: 0.8619\n",
      "Epoch 67/100\n",
      "250/250 [==============================] - 0s 838us/step - loss: 0.3332 - accuracy: 0.8627\n",
      "Epoch 68/100\n",
      "250/250 [==============================] - 0s 879us/step - loss: 0.3333 - accuracy: 0.8624\n",
      "Epoch 69/100\n",
      "250/250 [==============================] - 0s 826us/step - loss: 0.3330 - accuracy: 0.8618\n",
      "Epoch 70/100\n",
      "250/250 [==============================] - 0s 860us/step - loss: 0.3336 - accuracy: 0.8616\n",
      "Epoch 71/100\n",
      "250/250 [==============================] - 0s 846us/step - loss: 0.3336 - accuracy: 0.8641\n",
      "Epoch 72/100\n",
      "250/250 [==============================] - 0s 836us/step - loss: 0.3335 - accuracy: 0.8629\n",
      "Epoch 73/100\n",
      "250/250 [==============================] - 0s 857us/step - loss: 0.3333 - accuracy: 0.8618\n",
      "Epoch 74/100\n",
      "250/250 [==============================] - 0s 827us/step - loss: 0.3333 - accuracy: 0.8612\n",
      "Epoch 75/100\n",
      "250/250 [==============================] - 0s 815us/step - loss: 0.3332 - accuracy: 0.8624\n",
      "Epoch 76/100\n",
      "250/250 [==============================] - 0s 866us/step - loss: 0.3329 - accuracy: 0.8637\n",
      "Epoch 77/100\n",
      "250/250 [==============================] - 0s 826us/step - loss: 0.3329 - accuracy: 0.8624\n",
      "Epoch 78/100\n",
      "250/250 [==============================] - 0s 797us/step - loss: 0.3330 - accuracy: 0.8636\n",
      "Epoch 79/100\n"
     ]
    },
    {
     "name": "stdout",
     "output_type": "stream",
     "text": [
      "250/250 [==============================] - 0s 903us/step - loss: 0.3329 - accuracy: 0.8641\n",
      "Epoch 80/100\n",
      "250/250 [==============================] - 0s 853us/step - loss: 0.3330 - accuracy: 0.8625\n",
      "Epoch 81/100\n",
      "250/250 [==============================] - 0s 872us/step - loss: 0.3326 - accuracy: 0.8637\n",
      "Epoch 82/100\n",
      "250/250 [==============================] - 0s 701us/step - loss: 0.3326 - accuracy: 0.8634\n",
      "Epoch 83/100\n",
      "250/250 [==============================] - 0s 755us/step - loss: 0.3325 - accuracy: 0.8636\n",
      "Epoch 84/100\n",
      "250/250 [==============================] - 0s 893us/step - loss: 0.3326 - accuracy: 0.8625\n",
      "Epoch 85/100\n",
      "250/250 [==============================] - 0s 920us/step - loss: 0.3328 - accuracy: 0.8621\n",
      "Epoch 86/100\n",
      "250/250 [==============================] - 0s 917us/step - loss: 0.3325 - accuracy: 0.8633\n",
      "Epoch 87/100\n",
      "250/250 [==============================] - 0s 926us/step - loss: 0.3327 - accuracy: 0.8645\n",
      "Epoch 88/100\n",
      "250/250 [==============================] - 0s 805us/step - loss: 0.3323 - accuracy: 0.8621\n",
      "Epoch 89/100\n",
      "250/250 [==============================] - 0s 925us/step - loss: 0.3329 - accuracy: 0.8631\n",
      "Epoch 90/100\n",
      "250/250 [==============================] - 0s 918us/step - loss: 0.3323 - accuracy: 0.8625\n",
      "Epoch 91/100\n",
      "250/250 [==============================] - 0s 934us/step - loss: 0.3325 - accuracy: 0.8626\n",
      "Epoch 92/100\n",
      "250/250 [==============================] - 0s 943us/step - loss: 0.3323 - accuracy: 0.8639\n",
      "Epoch 93/100\n",
      "250/250 [==============================] - 0s 895us/step - loss: 0.3323 - accuracy: 0.8646\n",
      "Epoch 94/100\n",
      "250/250 [==============================] - 0s 925us/step - loss: 0.3320 - accuracy: 0.8629\n",
      "Epoch 95/100\n",
      "250/250 [==============================] - 0s 918us/step - loss: 0.3321 - accuracy: 0.8633\n",
      "Epoch 96/100\n",
      "250/250 [==============================] - 0s 887us/step - loss: 0.3317 - accuracy: 0.8624\n",
      "Epoch 97/100\n",
      "250/250 [==============================] - 0s 914us/step - loss: 0.3315 - accuracy: 0.8659\n",
      "Epoch 98/100\n",
      "250/250 [==============================] - 0s 910us/step - loss: 0.3321 - accuracy: 0.8616\n",
      "Epoch 99/100\n",
      "250/250 [==============================] - 0s 934us/step - loss: 0.3318 - accuracy: 0.8631\n",
      "Epoch 100/100\n",
      "250/250 [==============================] - 0s 883us/step - loss: 0.3316 - accuracy: 0.8616\n"
     ]
    },
    {
     "data": {
      "text/plain": [
       "<tensorflow.python.keras.callbacks.History at 0x7f6d99b89e50>"
      ]
     },
     "execution_count": 19,
     "metadata": {},
     "output_type": "execute_result"
    }
   ],
   "source": [
    "model.fit(X_train, y_train, batch_size = 32, epochs=100)"
   ]
  },
  {
   "cell_type": "code",
   "execution_count": 24,
   "metadata": {},
   "outputs": [],
   "source": [
    "from sklearn.metrics import confusion_matrix"
   ]
  },
  {
   "cell_type": "code",
   "execution_count": null,
   "metadata": {},
   "outputs": [],
   "source": [
    "cm = confusion_matrix()"
   ]
  },
  {
   "cell_type": "code",
   "execution_count": 22,
   "metadata": {},
   "outputs": [],
   "source": [
    "prediction = model.predict(X_test)"
   ]
  },
  {
   "cell_type": "code",
   "execution_count": 23,
   "metadata": {},
   "outputs": [
    {
     "data": {
      "text/plain": [
       "array([[0.02961424],\n",
       "       [0.064262  ],\n",
       "       [0.635076  ],\n",
       "       ...,\n",
       "       [0.12134597],\n",
       "       [0.09968641],\n",
       "       [0.11646926]], dtype=float32)"
      ]
     },
     "execution_count": 23,
     "metadata": {},
     "output_type": "execute_result"
    }
   ],
   "source": [
    "prediction"
   ]
  },
  {
   "cell_type": "code",
   "execution_count": null,
   "metadata": {},
   "outputs": [],
   "source": []
  }
 ],
 "metadata": {
  "kernelspec": {
   "display_name": "Python 3",
   "language": "python",
   "name": "python3"
  },
  "language_info": {
   "codemirror_mode": {
    "name": "ipython",
    "version": 3
   },
   "file_extension": ".py",
   "mimetype": "text/x-python",
   "name": "python",
   "nbconvert_exporter": "python",
   "pygments_lexer": "ipython3",
   "version": "3.7.7"
  }
 },
 "nbformat": 4,
 "nbformat_minor": 4
}
