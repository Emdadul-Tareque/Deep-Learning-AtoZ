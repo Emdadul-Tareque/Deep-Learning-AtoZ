{
 "cells": [
  {
   "cell_type": "code",
   "execution_count": 1,
   "metadata": {},
   "outputs": [],
   "source": [
    "import pandas as pd\n",
    "import numpy as np\n",
    "import matplotlib.pyplot as plt"
   ]
  },
  {
   "cell_type": "code",
   "execution_count": 2,
   "metadata": {},
   "outputs": [],
   "source": [
    "fashion_training_df = pd.read_csv('fashion-mnist_train.csv')"
   ]
  },
  {
   "cell_type": "code",
   "execution_count": 3,
   "metadata": {},
   "outputs": [],
   "source": [
    "fashion_testing_df = pd.read_csv('fashion-mnist_test.csv')"
   ]
  },
  {
   "cell_type": "code",
   "execution_count": 6,
   "metadata": {},
   "outputs": [
    {
     "data": {
      "text/html": [
       "<div>\n",
       "<style scoped>\n",
       "    .dataframe tbody tr th:only-of-type {\n",
       "        vertical-align: middle;\n",
       "    }\n",
       "\n",
       "    .dataframe tbody tr th {\n",
       "        vertical-align: top;\n",
       "    }\n",
       "\n",
       "    .dataframe thead th {\n",
       "        text-align: right;\n",
       "    }\n",
       "</style>\n",
       "<table border=\"1\" class=\"dataframe\">\n",
       "  <thead>\n",
       "    <tr style=\"text-align: right;\">\n",
       "      <th></th>\n",
       "      <th>label</th>\n",
       "      <th>pixel1</th>\n",
       "      <th>pixel2</th>\n",
       "      <th>pixel3</th>\n",
       "      <th>pixel4</th>\n",
       "      <th>pixel5</th>\n",
       "      <th>pixel6</th>\n",
       "      <th>pixel7</th>\n",
       "      <th>pixel8</th>\n",
       "      <th>pixel9</th>\n",
       "      <th>...</th>\n",
       "      <th>pixel775</th>\n",
       "      <th>pixel776</th>\n",
       "      <th>pixel777</th>\n",
       "      <th>pixel778</th>\n",
       "      <th>pixel779</th>\n",
       "      <th>pixel780</th>\n",
       "      <th>pixel781</th>\n",
       "      <th>pixel782</th>\n",
       "      <th>pixel783</th>\n",
       "      <th>pixel784</th>\n",
       "    </tr>\n",
       "  </thead>\n",
       "  <tbody>\n",
       "    <tr>\n",
       "      <th>0</th>\n",
       "      <td>2</td>\n",
       "      <td>0</td>\n",
       "      <td>0</td>\n",
       "      <td>0</td>\n",
       "      <td>0</td>\n",
       "      <td>0</td>\n",
       "      <td>0</td>\n",
       "      <td>0</td>\n",
       "      <td>0</td>\n",
       "      <td>0</td>\n",
       "      <td>...</td>\n",
       "      <td>0</td>\n",
       "      <td>0</td>\n",
       "      <td>0</td>\n",
       "      <td>0</td>\n",
       "      <td>0</td>\n",
       "      <td>0</td>\n",
       "      <td>0</td>\n",
       "      <td>0</td>\n",
       "      <td>0</td>\n",
       "      <td>0</td>\n",
       "    </tr>\n",
       "    <tr>\n",
       "      <th>1</th>\n",
       "      <td>9</td>\n",
       "      <td>0</td>\n",
       "      <td>0</td>\n",
       "      <td>0</td>\n",
       "      <td>0</td>\n",
       "      <td>0</td>\n",
       "      <td>0</td>\n",
       "      <td>0</td>\n",
       "      <td>0</td>\n",
       "      <td>0</td>\n",
       "      <td>...</td>\n",
       "      <td>0</td>\n",
       "      <td>0</td>\n",
       "      <td>0</td>\n",
       "      <td>0</td>\n",
       "      <td>0</td>\n",
       "      <td>0</td>\n",
       "      <td>0</td>\n",
       "      <td>0</td>\n",
       "      <td>0</td>\n",
       "      <td>0</td>\n",
       "    </tr>\n",
       "    <tr>\n",
       "      <th>2</th>\n",
       "      <td>6</td>\n",
       "      <td>0</td>\n",
       "      <td>0</td>\n",
       "      <td>0</td>\n",
       "      <td>0</td>\n",
       "      <td>0</td>\n",
       "      <td>0</td>\n",
       "      <td>0</td>\n",
       "      <td>5</td>\n",
       "      <td>0</td>\n",
       "      <td>...</td>\n",
       "      <td>0</td>\n",
       "      <td>0</td>\n",
       "      <td>0</td>\n",
       "      <td>30</td>\n",
       "      <td>43</td>\n",
       "      <td>0</td>\n",
       "      <td>0</td>\n",
       "      <td>0</td>\n",
       "      <td>0</td>\n",
       "      <td>0</td>\n",
       "    </tr>\n",
       "    <tr>\n",
       "      <th>3</th>\n",
       "      <td>0</td>\n",
       "      <td>0</td>\n",
       "      <td>0</td>\n",
       "      <td>0</td>\n",
       "      <td>1</td>\n",
       "      <td>2</td>\n",
       "      <td>0</td>\n",
       "      <td>0</td>\n",
       "      <td>0</td>\n",
       "      <td>0</td>\n",
       "      <td>...</td>\n",
       "      <td>3</td>\n",
       "      <td>0</td>\n",
       "      <td>0</td>\n",
       "      <td>0</td>\n",
       "      <td>0</td>\n",
       "      <td>1</td>\n",
       "      <td>0</td>\n",
       "      <td>0</td>\n",
       "      <td>0</td>\n",
       "      <td>0</td>\n",
       "    </tr>\n",
       "    <tr>\n",
       "      <th>4</th>\n",
       "      <td>3</td>\n",
       "      <td>0</td>\n",
       "      <td>0</td>\n",
       "      <td>0</td>\n",
       "      <td>0</td>\n",
       "      <td>0</td>\n",
       "      <td>0</td>\n",
       "      <td>0</td>\n",
       "      <td>0</td>\n",
       "      <td>0</td>\n",
       "      <td>...</td>\n",
       "      <td>0</td>\n",
       "      <td>0</td>\n",
       "      <td>0</td>\n",
       "      <td>0</td>\n",
       "      <td>0</td>\n",
       "      <td>0</td>\n",
       "      <td>0</td>\n",
       "      <td>0</td>\n",
       "      <td>0</td>\n",
       "      <td>0</td>\n",
       "    </tr>\n",
       "  </tbody>\n",
       "</table>\n",
       "<p>5 rows × 785 columns</p>\n",
       "</div>"
      ],
      "text/plain": [
       "   label  pixel1  pixel2  pixel3  pixel4  pixel5  pixel6  pixel7  pixel8  \\\n",
       "0      2       0       0       0       0       0       0       0       0   \n",
       "1      9       0       0       0       0       0       0       0       0   \n",
       "2      6       0       0       0       0       0       0       0       5   \n",
       "3      0       0       0       0       1       2       0       0       0   \n",
       "4      3       0       0       0       0       0       0       0       0   \n",
       "\n",
       "   pixel9  ...  pixel775  pixel776  pixel777  pixel778  pixel779  pixel780  \\\n",
       "0       0  ...         0         0         0         0         0         0   \n",
       "1       0  ...         0         0         0         0         0         0   \n",
       "2       0  ...         0         0         0        30        43         0   \n",
       "3       0  ...         3         0         0         0         0         1   \n",
       "4       0  ...         0         0         0         0         0         0   \n",
       "\n",
       "   pixel781  pixel782  pixel783  pixel784  \n",
       "0         0         0         0         0  \n",
       "1         0         0         0         0  \n",
       "2         0         0         0         0  \n",
       "3         0         0         0         0  \n",
       "4         0         0         0         0  \n",
       "\n",
       "[5 rows x 785 columns]"
      ]
     },
     "execution_count": 6,
     "metadata": {},
     "output_type": "execute_result"
    }
   ],
   "source": [
    "fashion_training_df.head()"
   ]
  },
  {
   "cell_type": "code",
   "execution_count": 9,
   "metadata": {},
   "outputs": [
    {
     "data": {
      "text/plain": [
       "(60000, 785)"
      ]
     },
     "execution_count": 9,
     "metadata": {},
     "output_type": "execute_result"
    }
   ],
   "source": [
    "fashion_training_df.shape"
   ]
  },
  {
   "cell_type": "code",
   "execution_count": 4,
   "metadata": {},
   "outputs": [],
   "source": [
    "training = np.array(fashion_training_df, dtype = 'float32')\n",
    "testing = np.array(fashion_testing_df, dtype = 'float32')"
   ]
  },
  {
   "cell_type": "code",
   "execution_count": 5,
   "metadata": {},
   "outputs": [
    {
     "name": "stdout",
     "output_type": "stream",
     "text": [
      "1.0\n"
     ]
    },
    {
     "data": {
      "image/png": "[encoded data removed]",
      "text/plain": [
       "<Figure size 432x288 with 1 Axes>"
      ]
     },
     "metadata": {
      "needs_background": "light"
     },
     "output_type": "display_data"
    }
   ],
   "source": [
    "import random\n",
    "i = random.randint(1, 60000)\n",
    "plt.imshow(training[i, 1:].reshape((28,28)))\n",
    "label = training[i, 0]\n",
    "print(label)"
   ]
  },
  {
   "cell_type": "code",
   "execution_count": 6,
   "metadata": {},
   "outputs": [],
   "source": [
    "X_train = training[:, 1: ]/255\n",
    "y_train = training[:, 0]\n",
    "\n",
    "X_test = testing[:, 1: ]/255\n",
    "y_test = testing[:, 0]"
   ]
  },
  {
   "cell_type": "code",
   "execution_count": 14,
   "metadata": {},
   "outputs": [],
   "source": [
    "from sklearn.model_selection import train_test_split\n",
    "\n",
    "X_train, X_validation, y_train, y_validaton = train_test_split(X_train, y_train, test_size = 0.2)"
   ]
  },
  {
   "cell_type": "code",
   "execution_count": 28,
   "metadata": {},
   "outputs": [
    {
     "data": {
      "text/plain": [
       "tuple"
      ]
     },
     "execution_count": 28,
     "metadata": {},
     "output_type": "execute_result"
    }
   ],
   "source": [
    "X_train.shape"
   ]
  },
  {
   "cell_type": "code",
   "execution_count": 25,
   "metadata": {},
   "outputs": [
    {
     "data": {
      "text/plain": [
       "(12000, 784)"
      ]
     },
     "execution_count": 25,
     "metadata": {},
     "output_type": "execute_result"
    }
   ],
   "source": [
    "X_validation.shape"
   ]
  },
  {
   "cell_type": "code",
   "execution_count": 26,
   "metadata": {},
   "outputs": [
    {
     "data": {
      "text/plain": [
       "(10000, 784)"
      ]
     },
     "execution_count": 26,
     "metadata": {},
     "output_type": "execute_result"
    }
   ],
   "source": [
    "X_test.shape"
   ]
  },
  {
   "cell_type": "code",
   "execution_count": 27,
   "metadata": {},
   "outputs": [
    {
     "data": {
      "text/plain": [
       "48000"
      ]
     },
     "execution_count": 27,
     "metadata": {},
     "output_type": "execute_result"
    }
   ],
   "source": [
    "X_train.shape[0]"
   ]
  },
  {
   "cell_type": "code",
   "execution_count": 15,
   "metadata": {},
   "outputs": [],
   "source": [
    "X_train = X_train.reshape(X_train.shape[0], *(28, 28,1))\n",
    "X_test = X_test.reshape(X_test.shape[0], *(28, 28,1))\n",
    "X_validation = X_validation.reshape(X_validation.shape[0], *(28, 28, 1))"
   ]
  },
  {
   "cell_type": "code",
   "execution_count": 16,
   "metadata": {},
   "outputs": [
    {
     "data": {
      "text/plain": [
       "(30720, 28, 28, 1)"
      ]
     },
     "execution_count": 16,
     "metadata": {},
     "output_type": "execute_result"
    }
   ],
   "source": [
    "X_train.shape"
   ]
  },
  {
   "cell_type": "code",
   "execution_count": 11,
   "metadata": {},
   "outputs": [
    {
     "data": {
      "text/plain": [
       "(10000, 28, 28, 1)"
      ]
     },
     "execution_count": 11,
     "metadata": {},
     "output_type": "execute_result"
    }
   ],
   "source": [
    "X_test.shape"
   ]
  },
  {
   "cell_type": "code",
   "execution_count": 13,
   "metadata": {},
   "outputs": [
    {
     "data": {
      "text/plain": [
       "(9600, 28, 28, 1)"
      ]
     },
     "execution_count": 13,
     "metadata": {},
     "output_type": "execute_result"
    }
   ],
   "source": [
    "X_validation.shape"
   ]
  },
  {
   "cell_type": "code",
   "execution_count": 22,
   "metadata": {},
   "outputs": [],
   "source": [
    "from tensorflow.keras.models import Sequential\n",
    "from tensorflow.keras.layers import Conv2D, MaxPooling2D, Dense, Flatten, Dropout"
   ]
  },
  {
   "cell_type": "code",
   "execution_count": 18,
   "metadata": {},
   "outputs": [],
   "source": [
    "model = Sequential()"
   ]
  },
  {
   "cell_type": "code",
   "execution_count": 20,
   "metadata": {},
   "outputs": [],
   "source": [
    "model.add(Conv2D(filters = 64, kernel_size = (3,3), input_shape = (28, 28, 1), \n",
    "                 activation='relu'))"
   ]
  },
  {
   "cell_type": "code",
   "execution_count": 21,
   "metadata": {},
   "outputs": [],
   "source": [
    "model.add(MaxPooling2D((2,2), strides=2))"
   ]
  },
  {
   "cell_type": "code",
   "execution_count": 23,
   "metadata": {},
   "outputs": [],
   "source": [
    "model.add(Dropout(0.25))"
   ]
  },
  {
   "cell_type": "code",
   "execution_count": 24,
   "metadata": {},
   "outputs": [],
   "source": [
    "model.add(Flatten())\n",
    "model.add(Dense(units = 32, activation = 'relu'))\n",
    "model.add(Dense(units = 10, activation = 'softmax'))"
   ]
  },
  {
   "cell_type": "code",
   "execution_count": 25,
   "metadata": {},
   "outputs": [],
   "source": [
    "model.compile(optimizer = 'adam',\n",
    "             loss = 'sparse_categorical_crossentropy',\n",
    "             metrics=['accuracy'])"
   ]
  },
  {
   "cell_type": "code",
   "execution_count": 26,
   "metadata": {},
   "outputs": [
    {
     "name": "stdout",
     "output_type": "stream",
     "text": [
      "Epoch 1/50\n",
      "960/960 [==============================] - 15s 16ms/step - loss: 0.4980 - accuracy: 0.8241 - val_loss: 0.3624 - val_accuracy: 0.8750\n",
      "Epoch 2/50\n",
      "960/960 [==============================] - 15s 16ms/step - loss: 0.3380 - accuracy: 0.8815 - val_loss: 0.3233 - val_accuracy: 0.8866\n",
      "Epoch 3/50\n",
      "960/960 [==============================] - 15s 16ms/step - loss: 0.2970 - accuracy: 0.8938 - val_loss: 0.2946 - val_accuracy: 0.8971\n",
      "Epoch 4/50\n",
      "960/960 [==============================] - 14s 15ms/step - loss: 0.2666 - accuracy: 0.9037 - val_loss: 0.3000 - val_accuracy: 0.8936\n",
      "Epoch 5/50\n",
      "960/960 [==============================] - 15s 15ms/step - loss: 0.2437 - accuracy: 0.9115 - val_loss: 0.3081 - val_accuracy: 0.8878\n",
      "Epoch 6/50\n",
      "960/960 [==============================] - 15s 15ms/step - loss: 0.2247 - accuracy: 0.9175 - val_loss: 0.2926 - val_accuracy: 0.8973\n",
      "Epoch 7/50\n",
      "960/960 [==============================] - 16s 16ms/step - loss: 0.2089 - accuracy: 0.9224 - val_loss: 0.2778 - val_accuracy: 0.9029\n",
      "Epoch 8/50\n",
      "960/960 [==============================] - 15s 16ms/step - loss: 0.1924 - accuracy: 0.9285 - val_loss: 0.2835 - val_accuracy: 0.8970\n",
      "Epoch 9/50\n",
      "960/960 [==============================] - 16s 16ms/step - loss: 0.1783 - accuracy: 0.9336 - val_loss: 0.2989 - val_accuracy: 0.8996\n",
      "Epoch 10/50\n",
      "960/960 [==============================] - 16s 17ms/step - loss: 0.1692 - accuracy: 0.9376 - val_loss: 0.2894 - val_accuracy: 0.9055\n",
      "Epoch 11/50\n",
      "960/960 [==============================] - 16s 17ms/step - loss: 0.1569 - accuracy: 0.9409 - val_loss: 0.2924 - val_accuracy: 0.9012\n",
      "Epoch 12/50\n",
      "960/960 [==============================] - 16s 17ms/step - loss: 0.1461 - accuracy: 0.9448 - val_loss: 0.3148 - val_accuracy: 0.9022\n",
      "Epoch 13/50\n",
      "960/960 [==============================] - 16s 17ms/step - loss: 0.1388 - accuracy: 0.9492 - val_loss: 0.2940 - val_accuracy: 0.9082\n",
      "Epoch 14/50\n",
      "960/960 [==============================] - 17s 18ms/step - loss: 0.1289 - accuracy: 0.9522 - val_loss: 0.3290 - val_accuracy: 0.8978\n",
      "Epoch 15/50\n",
      "960/960 [==============================] - 16s 16ms/step - loss: 0.1233 - accuracy: 0.9531 - val_loss: 0.3024 - val_accuracy: 0.9047\n",
      "Epoch 16/50\n",
      "960/960 [==============================] - 15s 16ms/step - loss: 0.1161 - accuracy: 0.9565 - val_loss: 0.3273 - val_accuracy: 0.9025\n",
      "Epoch 17/50\n",
      "960/960 [==============================] - 15s 16ms/step - loss: 0.1085 - accuracy: 0.9596 - val_loss: 0.3299 - val_accuracy: 0.9029\n",
      "Epoch 18/50\n",
      "960/960 [==============================] - 16s 16ms/step - loss: 0.1046 - accuracy: 0.9610 - val_loss: 0.3381 - val_accuracy: 0.9053\n",
      "Epoch 19/50\n",
      "960/960 [==============================] - 16s 17ms/step - loss: 0.1013 - accuracy: 0.9613 - val_loss: 0.3458 - val_accuracy: 0.9016\n",
      "Epoch 20/50\n",
      "960/960 [==============================] - 17s 18ms/step - loss: 0.0975 - accuracy: 0.9640 - val_loss: 0.3540 - val_accuracy: 0.9035\n",
      "Epoch 21/50\n",
      "960/960 [==============================] - 15s 16ms/step - loss: 0.0907 - accuracy: 0.9658 - val_loss: 0.3581 - val_accuracy: 0.9053\n",
      "Epoch 22/50\n",
      "960/960 [==============================] - 15s 15ms/step - loss: 0.0839 - accuracy: 0.9696 - val_loss: 0.3645 - val_accuracy: 0.9008\n",
      "Epoch 23/50\n",
      "960/960 [==============================] - 15s 15ms/step - loss: 0.0827 - accuracy: 0.9689 - val_loss: 0.4113 - val_accuracy: 0.8993\n",
      "Epoch 24/50\n",
      "960/960 [==============================] - 15s 15ms/step - loss: 0.0818 - accuracy: 0.9694 - val_loss: 0.3725 - val_accuracy: 0.9044\n",
      "Epoch 25/50\n",
      "960/960 [==============================] - 15s 16ms/step - loss: 0.0757 - accuracy: 0.9720 - val_loss: 0.3842 - val_accuracy: 0.9039\n",
      "Epoch 26/50\n",
      "960/960 [==============================] - 15s 15ms/step - loss: 0.0740 - accuracy: 0.9727 - val_loss: 0.3938 - val_accuracy: 0.9022\n",
      "Epoch 27/50\n",
      "960/960 [==============================] - 15s 16ms/step - loss: 0.0686 - accuracy: 0.9742 - val_loss: 0.4091 - val_accuracy: 0.9051\n",
      "Epoch 28/50\n",
      "960/960 [==============================] - 15s 16ms/step - loss: 0.0675 - accuracy: 0.9752 - val_loss: 0.4333 - val_accuracy: 0.9005\n",
      "Epoch 29/50\n",
      "960/960 [==============================] - 15s 15ms/step - loss: 0.0671 - accuracy: 0.9760 - val_loss: 0.4363 - val_accuracy: 0.8982\n",
      "Epoch 30/50\n",
      "960/960 [==============================] - 15s 16ms/step - loss: 0.0637 - accuracy: 0.9772 - val_loss: 0.4452 - val_accuracy: 0.8987\n",
      "Epoch 31/50\n",
      "960/960 [==============================] - 15s 15ms/step - loss: 0.0591 - accuracy: 0.9786 - val_loss: 0.4323 - val_accuracy: 0.9061\n",
      "Epoch 32/50\n",
      "960/960 [==============================] - 15s 16ms/step - loss: 0.0605 - accuracy: 0.9775 - val_loss: 0.4673 - val_accuracy: 0.8992\n",
      "Epoch 33/50\n",
      "960/960 [==============================] - 15s 16ms/step - loss: 0.0601 - accuracy: 0.9787 - val_loss: 0.4560 - val_accuracy: 0.8978\n",
      "Epoch 34/50\n",
      "960/960 [==============================] - 15s 16ms/step - loss: 0.0565 - accuracy: 0.9788 - val_loss: 0.4410 - val_accuracy: 0.9047\n",
      "Epoch 35/50\n",
      "960/960 [==============================] - 15s 16ms/step - loss: 0.0530 - accuracy: 0.9810 - val_loss: 0.4451 - val_accuracy: 0.9025\n",
      "Epoch 36/50\n",
      "960/960 [==============================] - 15s 15ms/step - loss: 0.0483 - accuracy: 0.9826 - val_loss: 0.4838 - val_accuracy: 0.9005\n",
      "Epoch 37/50\n",
      "960/960 [==============================] - 15s 16ms/step - loss: 0.0535 - accuracy: 0.9796 - val_loss: 0.5045 - val_accuracy: 0.8990\n",
      "Epoch 38/50\n",
      "960/960 [==============================] - 15s 15ms/step - loss: 0.0487 - accuracy: 0.9825 - val_loss: 0.4845 - val_accuracy: 0.9055\n",
      "Epoch 39/50\n",
      "960/960 [==============================] - 15s 16ms/step - loss: 0.0495 - accuracy: 0.9826 - val_loss: 0.4916 - val_accuracy: 0.8993\n",
      "Epoch 40/50\n",
      "960/960 [==============================] - 15s 15ms/step - loss: 0.0474 - accuracy: 0.9831 - val_loss: 0.4924 - val_accuracy: 0.9048\n",
      "Epoch 41/50\n",
      "960/960 [==============================] - 15s 16ms/step - loss: 0.0474 - accuracy: 0.9829 - val_loss: 0.4990 - val_accuracy: 0.9033\n",
      "Epoch 42/50\n",
      "960/960 [==============================] - 15s 16ms/step - loss: 0.0420 - accuracy: 0.9847 - val_loss: 0.5516 - val_accuracy: 0.8999\n",
      "Epoch 43/50\n",
      "960/960 [==============================] - 15s 16ms/step - loss: 0.0472 - accuracy: 0.9825 - val_loss: 0.5171 - val_accuracy: 0.8983\n",
      "Epoch 44/50\n",
      "960/960 [==============================] - 15s 16ms/step - loss: 0.0440 - accuracy: 0.9841 - val_loss: 0.5601 - val_accuracy: 0.8952\n",
      "Epoch 45/50\n",
      "960/960 [==============================] - 15s 15ms/step - loss: 0.0453 - accuracy: 0.9832 - val_loss: 0.5267 - val_accuracy: 0.9030\n",
      "Epoch 46/50\n",
      "960/960 [==============================] - 15s 15ms/step - loss: 0.0403 - accuracy: 0.9853 - val_loss: 0.5488 - val_accuracy: 0.9000\n",
      "Epoch 47/50\n",
      "960/960 [==============================] - 15s 16ms/step - loss: 0.0427 - accuracy: 0.9845 - val_loss: 0.5421 - val_accuracy: 0.9035\n",
      "Epoch 48/50\n",
      "960/960 [==============================] - 15s 15ms/step - loss: 0.0411 - accuracy: 0.9844 - val_loss: 0.5343 - val_accuracy: 0.9022\n",
      "Epoch 49/50\n",
      "960/960 [==============================] - 15s 16ms/step - loss: 0.0417 - accuracy: 0.9850 - val_loss: 0.5591 - val_accuracy: 0.8993\n",
      "Epoch 50/50\n",
      "960/960 [==============================] - 15s 15ms/step - loss: 0.0410 - accuracy: 0.9848 - val_loss: 0.5349 - val_accuracy: 0.8982\n"
     ]
    },
    {
     "data": {
      "text/plain": [
       "<tensorflow.python.keras.callbacks.History at 0x7f14d706b7d0>"
      ]
     },
     "execution_count": 26,
     "metadata": {},
     "output_type": "execute_result"
    }
   ],
   "source": [
    "model.fit(X_train, y_train, epochs = 50, verbose=True, \n",
    "          validation_data=(X_validation, y_validaton))"
   ]
  },
  {
   "cell_type": "code",
   "execution_count": 27,
   "metadata": {},
   "outputs": [
    {
     "name": "stdout",
     "output_type": "stream",
     "text": [
      "313/313 [==============================] - 1s 4ms/step - loss: 0.5207 - accuracy: 0.9064\n"
     ]
    }
   ],
   "source": [
    "test_loss, test_accuracy = model.evaluate(X_test, y_test, )"
   ]
  },
  {
   "cell_type": "code",
   "execution_count": 28,
   "metadata": {},
   "outputs": [
    {
     "name": "stdout",
     "output_type": "stream",
     "text": [
      "Accuracy on test dataset: 0.9064000248908997\n",
      "None\n"
     ]
    }
   ],
   "source": [
    "print(print('Accuracy on test dataset:', test_accuracy))"
   ]
  },
  {
   "cell_type": "code",
   "execution_count": 29,
   "metadata": {},
   "outputs": [],
   "source": [
    "predictions = model.predict(X_test)"
   ]
  },
  {
   "cell_type": "code",
   "execution_count": 35,
   "metadata": {},
   "outputs": [
    {
     "data": {
      "text/plain": [
       "1"
      ]
     },
     "execution_count": 35,
     "metadata": {},
     "output_type": "execute_result"
    }
   ],
   "source": [
    "np.argmax(predictions[1])"
   ]
  },
  {
   "cell_type": "code",
   "execution_count": 34,
   "metadata": {},
   "outputs": [
    {
     "data": {
      "text/plain": [
       "1.0"
      ]
     },
     "execution_count": 34,
     "metadata": {},
     "output_type": "execute_result"
    }
   ],
   "source": [
    "y_test[1]"
   ]
  },
  {
   "cell_type": "code",
   "execution_count": 38,
   "metadata": {
    "scrolled": true
   },
   "outputs": [
    {
     "data": {
      "image/png": "[encoded data removed]",
      "text/plain": [
       "<Figure size 864x864 with 25 Axes>"
      ]
     },
     "metadata": {
      "needs_background": "light"
     },
     "output_type": "display_data"
    }
   ],
   "source": [
    "L = 5\n",
    "W = 5\n",
    "fig, axes = plt.subplots(L, W, figsize = (12,12))\n",
    "axes = axes.ravel() # \n",
    "\n",
    "for i in np.arange(0, L * W):  \n",
    "    axes[i].imshow(X_test[i].reshape(28,28))\n",
    "    axes[i].set_title(\"Prediction Class = {:0.1f}\\n True Class = {:0.1f}\".format(np.argmax(predictions[i]), y_test[i]))\n",
    "    axes[i].axis('off')\n",
    "\n",
    "plt.subplots_adjust(wspace=0.5)"
   ]
  },
  {
   "cell_type": "code",
   "execution_count": 46,
   "metadata": {},
   "outputs": [],
   "source": [
    "predicted_classes = model.predict_classes(X_test)"
   ]
  },
  {
   "cell_type": "code",
   "execution_count": 48,
   "metadata": {
    "scrolled": true
   },
   "outputs": [
    {
     "name": "stderr",
     "output_type": "stream",
     "text": [
      "/home/emdadul-tareque/anaconda3/lib/python3.7/importlib/_bootstrap.py:219: RuntimeWarning: numpy.ufunc size changed, may indicate binary incompatibility. Expected 192 from C header, got 216 from PyObject\n",
      "  return f(*args, **kwds)\n"
     ]
    },
    {
     "data": {
      "text/plain": [
       "<matplotlib.axes._subplots.AxesSubplot at 0x7f149440fb50>"
      ]
     },
     "execution_count": 48,
     "metadata": {},
     "output_type": "execute_result"
    },
    {
     "data": {
      "image/png": "[encoded data removed]",
      "text/plain": [
       "<Figure size 1008x720 with 2 Axes>"
      ]
     },
     "metadata": {
      "needs_background": "light"
     },
     "output_type": "display_data"
    }
   ],
   "source": [
    "from sklearn.metrics import confusion_matrix\n",
    "import seaborn as sns\n",
    "cm = confusion_matrix(y_test, predicted_classes)\n",
    "plt.figure(figsize = (14,10))\n",
    "sns.heatmap(cm, annot=True)"
   ]
  }
 ],
 "metadata": {
  "kernelspec": {
   "display_name": "Python 3",
   "language": "python",
   "name": "python3"
  },
  "language_info": {
   "codemirror_mode": {
    "name": "ipython",
    "version": 3
   },
   "file_extension": ".py",
   "mimetype": "text/x-python",
   "name": "python",
   "nbconvert_exporter": "python",
   "pygments_lexer": "ipython3",
   "version": "3.7.7"
  }
 },
 "nbformat": 4,
 "nbformat_minor": 4
}
