{
 "cells": [
  {
   "cell_type": "code",
   "execution_count": 1,
   "metadata": {},
   "outputs": [],
   "source": [
    "import numpy as np\n",
    "import tensorflow as tf\n",
    "from tensorflow.keras.preprocessing.image import ImageDataGenerator"
   ]
  },
  {
   "cell_type": "markdown",
   "metadata": {},
   "source": [
    "# Data Preprocess"
   ]
  },
  {
   "cell_type": "markdown",
   "metadata": {},
   "source": [
    "## Preprocess for training set"
   ]
  },
  {
   "cell_type": "code",
   "execution_count": 2,
   "metadata": {},
   "outputs": [
    {
     "name": "stdout",
     "output_type": "stream",
     "text": [
      "Found 8000 images belonging to 2 classes.\n"
     ]
    }
   ],
   "source": [
    "train_datagen = ImageDataGenerator(rescale = 1./255,\n",
    "                                  shear_range = 0.2,\n",
    "                                  zoom_range = 0.2,\n",
    "                                  horizontal_flip = True)\n",
    "\n",
    "training_set = train_datagen.flow_from_directory('dataset/training_set',\n",
    "                                                target_size = (64, 64),\n",
    "                                                batch_size = 32,\n",
    "                                                class_mode = 'binary')"
   ]
  },
  {
   "cell_type": "markdown",
   "metadata": {},
   "source": [
    "## Preprocess for test set"
   ]
  },
  {
   "cell_type": "code",
   "execution_count": 3,
   "metadata": {},
   "outputs": [
    {
     "name": "stdout",
     "output_type": "stream",
     "text": [
      "Found 2000 images belonging to 2 classes.\n"
     ]
    }
   ],
   "source": [
    "test_datagen = ImageDataGenerator(rescale=1./255)\n",
    "\n",
    "test_set = test_datagen.flow_from_directory('dataset/test_set',\n",
    "                                              target_size = (64, 64),\n",
    "                                              batch_size = 32,\n",
    "                                              class_mode = 'binary')"
   ]
  },
  {
   "cell_type": "markdown",
   "metadata": {},
   "source": [
    "# Part 2: Build a CNN model"
   ]
  },
  {
   "cell_type": "code",
   "execution_count": 4,
   "metadata": {},
   "outputs": [],
   "source": [
    "from tensorflow.keras.models import Sequential\n",
    "from tensorflow.keras.layers import Dense, Flatten, Conv2D, MaxPool2D"
   ]
  },
  {
   "cell_type": "code",
   "execution_count": 5,
   "metadata": {},
   "outputs": [],
   "source": [
    "model = Sequential()\n",
    "model.add(Conv2D(filters = 32, kernel_size = (3, 3), input_shape = [64, 64, 3],\n",
    "                 activation = 'relu'))\n",
    "model.add(MaxPool2D(pool_size=2, strides=2))\n"
   ]
  },
  {
   "cell_type": "code",
   "execution_count": 6,
   "metadata": {},
   "outputs": [],
   "source": [
    "model.add(Conv2D(filters = 32, kernel_size = (3, 3), activation = 'relu'))\n",
    "model.add(MaxPool2D(pool_size=2, strides=2))"
   ]
  },
  {
   "cell_type": "code",
   "execution_count": 7,
   "metadata": {},
   "outputs": [],
   "source": [
    "model.add(Flatten())\n",
    "model.add(Dense(units = 128, activation = 'relu'))\n",
    "model.add(Dense(units = 1, activation = 'sigmoid'))"
   ]
  },
  {
   "cell_type": "code",
   "execution_count": 8,
   "metadata": {},
   "outputs": [],
   "source": [
    "model.compile(optimizer='adam',\n",
    "              loss='binary_crossentropy', \n",
    "              metrics=['accuracy'] )"
   ]
  },
  {
   "cell_type": "code",
   "execution_count": 9,
   "metadata": {},
   "outputs": [
    {
     "name": "stdout",
     "output_type": "stream",
     "text": [
      "Epoch 1/25\n",
      "250/250 [==============================] - 48s 192ms/step - loss: 0.6721 - accuracy: 0.5759 - val_loss: 0.6510 - val_accuracy: 0.6095\n",
      "Epoch 2/25\n",
      "250/250 [==============================] - 38s 153ms/step - loss: 0.5983 - accuracy: 0.6805 - val_loss: 0.5994 - val_accuracy: 0.6815\n",
      "Epoch 3/25\n",
      "250/250 [==============================] - 39s 156ms/step - loss: 0.5692 - accuracy: 0.7010 - val_loss: 0.5426 - val_accuracy: 0.7285\n",
      "Epoch 4/25\n",
      "250/250 [==============================] - 39s 156ms/step - loss: 0.5291 - accuracy: 0.7334 - val_loss: 0.5778 - val_accuracy: 0.7145\n",
      "Epoch 5/25\n",
      "250/250 [==============================] - 39s 158ms/step - loss: 0.5105 - accuracy: 0.7508 - val_loss: 0.5004 - val_accuracy: 0.7580\n",
      "Epoch 6/25\n",
      "250/250 [==============================] - 40s 159ms/step - loss: 0.4981 - accuracy: 0.7580 - val_loss: 0.4849 - val_accuracy: 0.7780\n",
      "Epoch 7/25\n",
      "250/250 [==============================] - 40s 160ms/step - loss: 0.4720 - accuracy: 0.7679 - val_loss: 0.5015 - val_accuracy: 0.7640\n",
      "Epoch 8/25\n",
      "250/250 [==============================] - 40s 159ms/step - loss: 0.4665 - accuracy: 0.7731 - val_loss: 0.4800 - val_accuracy: 0.7795\n",
      "Epoch 9/25\n",
      "250/250 [==============================] - 39s 155ms/step - loss: 0.4493 - accuracy: 0.7899 - val_loss: 0.5294 - val_accuracy: 0.7425\n",
      "Epoch 10/25\n",
      "250/250 [==============================] - 39s 156ms/step - loss: 0.4318 - accuracy: 0.7990 - val_loss: 0.4625 - val_accuracy: 0.7835\n",
      "Epoch 11/25\n",
      "250/250 [==============================] - 40s 158ms/step - loss: 0.4213 - accuracy: 0.8023 - val_loss: 0.4564 - val_accuracy: 0.7940\n",
      "Epoch 12/25\n",
      "250/250 [==============================] - 39s 158ms/step - loss: 0.4108 - accuracy: 0.8149 - val_loss: 0.5094 - val_accuracy: 0.7860\n",
      "Epoch 13/25\n",
      "250/250 [==============================] - 40s 158ms/step - loss: 0.4005 - accuracy: 0.8117 - val_loss: 0.5014 - val_accuracy: 0.7715\n",
      "Epoch 14/25\n",
      "250/250 [==============================] - 40s 160ms/step - loss: 0.3821 - accuracy: 0.8217 - val_loss: 0.4527 - val_accuracy: 0.7930\n",
      "Epoch 15/25\n",
      "250/250 [==============================] - 38s 154ms/step - loss: 0.3681 - accuracy: 0.8319 - val_loss: 0.4657 - val_accuracy: 0.7900\n",
      "Epoch 16/25\n",
      "250/250 [==============================] - 39s 158ms/step - loss: 0.3555 - accuracy: 0.8354 - val_loss: 0.4613 - val_accuracy: 0.7875\n",
      "Epoch 17/25\n",
      "250/250 [==============================] - 38s 154ms/step - loss: 0.3433 - accuracy: 0.8491 - val_loss: 0.4664 - val_accuracy: 0.7935\n",
      "Epoch 18/25\n",
      "250/250 [==============================] - 38s 153ms/step - loss: 0.3286 - accuracy: 0.8580 - val_loss: 0.4712 - val_accuracy: 0.7995\n",
      "Epoch 19/25\n",
      "250/250 [==============================] - 38s 153ms/step - loss: 0.3231 - accuracy: 0.8574 - val_loss: 0.4726 - val_accuracy: 0.7900\n",
      "Epoch 20/25\n",
      "250/250 [==============================] - 39s 154ms/step - loss: 0.3061 - accuracy: 0.8689 - val_loss: 0.5053 - val_accuracy: 0.8000\n",
      "Epoch 21/25\n",
      "250/250 [==============================] - 39s 155ms/step - loss: 0.2942 - accuracy: 0.8723 - val_loss: 0.4835 - val_accuracy: 0.7980\n",
      "Epoch 22/25\n",
      "250/250 [==============================] - 40s 161ms/step - loss: 0.2839 - accuracy: 0.8801 - val_loss: 0.5349 - val_accuracy: 0.7810\n",
      "Epoch 23/25\n",
      "250/250 [==============================] - 38s 154ms/step - loss: 0.2676 - accuracy: 0.8864 - val_loss: 0.5284 - val_accuracy: 0.7860\n",
      "Epoch 24/25\n",
      "250/250 [==============================] - 39s 155ms/step - loss: 0.2533 - accuracy: 0.8959 - val_loss: 0.5285 - val_accuracy: 0.7910\n",
      "Epoch 25/25\n",
      "250/250 [==============================] - 38s 152ms/step - loss: 0.2453 - accuracy: 0.8997 - val_loss: 0.5156 - val_accuracy: 0.8035\n"
     ]
    },
    {
     "data": {
      "text/plain": [
       "<tensorflow.python.keras.callbacks.History at 0x7fa0b1bcf590>"
      ]
     },
     "execution_count": 9,
     "metadata": {},
     "output_type": "execute_result"
    }
   ],
   "source": [
    "model.fit(x = training_set, validation_data = test_set, epochs = 25)"
   ]
  },
  {
   "cell_type": "code",
   "execution_count": 35,
   "metadata": {},
   "outputs": [],
   "source": [
    "import numpy as np\n",
    "from tensorflow.keras.preprocessing import image\n",
    "test_image = image.load_img('dataset/single_prediction/cat_or_dog_1.jpg', target_size = (64, 64))\n",
    "test_image = image.img_to_array(test_image)\n",
    "test_image = np.expand_dims(test_image, axis = 0)\n",
    "result = model.predict(test_image)\n",
    "training_set.class_indices\n",
    "if result[0][0] == 1:\n",
    "  prediction = 'dog'\n",
    "else:\n",
    "  prediction = 'cat'"
   ]
  },
  {
   "cell_type": "code",
   "execution_count": 34,
   "metadata": {},
   "outputs": [
    {
     "name": "stdout",
     "output_type": "stream",
     "text": [
      "dog\n"
     ]
    }
   ],
   "source": [
    "print(prediction)"
   ]
  },
  {
   "cell_type": "markdown",
   "metadata": {},
   "source": [
    "# Saved model"
   ]
  },
  {
   "cell_type": "code",
   "execution_count": 36,
   "metadata": {},
   "outputs": [],
   "source": [
    "import os\n",
    "directory = os.path.join(os.getcwd(), 'saved_models')\n",
    "\n",
    "if not os.path.isdir(directory):\n",
    "    os.makedirs(directory)\n",
    "model_path = os.path.join(directory, 'cifar10_trained_model_augmentatio.h5')\n",
    "model.save(model_path)"
   ]
  }
 ],
 "metadata": {
  "kernelspec": {
   "display_name": "Python 3",
   "language": "python",
   "name": "python3"
  },
  "language_info": {
   "codemirror_mode": {
    "name": "ipython",
    "version": 3
   },
   "file_extension": ".py",
   "mimetype": "text/x-python",
   "name": "python",
   "nbconvert_exporter": "python",
   "pygments_lexer": "ipython3",
   "version": "3.7.7"
  }
 },
 "nbformat": 4,
 "nbformat_minor": 4
}
